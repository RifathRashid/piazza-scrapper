{
 "cells": [
  {
   "cell_type": "code",
   "execution_count": null,
   "metadata": {},
   "outputs": [],
   "source": [
    "from piazza_api import Piazza \n",
    "\n",
    "p = Piazza()\n",
    "p.user_login()\n",
    "\n",
    "user_profile = p.get_user_profile()"
   ]
  },
  {
   "cell_type": "code",
   "execution_count": 2,
   "metadata": {},
   "outputs": [
    {
     "name": "stdout",
     "output_type": "stream",
     "text": [
      "side_projects\n",
      "status_when\n",
      "courses_stud\n",
      "roles\n",
      "research\n",
      "skills\n",
      "companies\n",
      "status_what\n",
      "school_id\n",
      "school\n",
      "contact\n",
      "last_update\n",
      "links\n",
      "company\n",
      "photo_url\n",
      "resume_req\n",
      "email\n",
      "work_experience\n",
      "splash_data\n",
      "courses_inst\n",
      "work\n",
      "profile_settings\n",
      "preference\n",
      "academics\n",
      "tags\n",
      "worked_at\n",
      "profile_progress\n",
      "user_id\n",
      "schools\n",
      "awards\n",
      "name\n",
      "network_signal\n",
      "all_classes\n",
      "status\n"
     ]
    }
   ],
   "source": [
    "for key in user_profile: \n",
    "    print(key)"
   ]
  },
  {
   "cell_type": "code",
   "execution_count": 3,
   "metadata": {},
   "outputs": [
    {
     "name": "stdout",
     "output_type": "stream",
     "text": [
      "{'ie1ttylpcai6rs': {'id': 'ie1ttylpcai6rs', 'category': '', 'num': 'BIOE 44', 'term': 'Fall 2015', 'subject': 'biology', 'name': 'Fundamentals for Engineering Biology Lab', 'job': '', 'difficulty': 'lower_level', 'type': 'open', 'instructors': [{'id': 'hex11f14l2d51f', 'name': 'Joseph Shih'}, {'id': 'ie1tuizdqhc7d2', 'name': 'Stanley Qi'}], 'school_id': 'ghziegkpSkh'}, 'i3hqyciohyg6io': {'id': 'i3hqyciohyg6io', 'category': '', 'num': 'CHEM 31B', 'term': 'Winter 2015', 'subject': 'chemistry', 'name': 'Chemical Principles II', 'job': '', 'difficulty': 'lower_level', 'type': 'open', 'instructors': [{'id': 'ghpvjumoqVY', 'name': 'Jennifer Schwartz'}], 'school_id': 'ghziegkpSkh'}, 'idrp48wxt8011m': {'id': 'idrp48wxt8011m', 'category': '', 'num': 'BIO 41', 'term': 'Fall 2015', 'subject': 'biology', 'name': 'Genetics, Biochemistry, and Molecular Biology', 'job': '', 'difficulty': 'lower_level', 'type': 'open', 'instructors': [{'id': 'giavcyh71el', 'name': 'Waheeda Khalfan'}, {'id': 'i7ud7an22zp1h0', 'name': 'Fiorella'}, {'id': 'gm9klxwzag8', 'name': 'Natalia Birgisson'}, {'id': 'hztzkm6wmyn38b', 'name': 'Laura Hunter'}, {'id': 'h0n0rnbugb41j3', 'name': 'Alex Lindqwister'}, {'id': 'i7t8wybu95e460', 'name': 'Yan Gong'}, {'id': 'hwwhepiuaj84eu', 'name': 'Paola Moreno-Roman'}, {'id': 'gikomrpmdyP', 'name': 'Druthi Ghanta'}], 'school_id': 'ghziegkpSkh'}, 'i8avg74dy1c3bt': {'id': 'i8avg74dy1c3bt', 'category': '', 'num': 'PEDS 51N', 'term': 'Spring 2015', 'subject': 'health/healthcare', 'name': 'How Discovery and Innovation Have Transformed Medicine', 'job': '', 'difficulty': 'lower_level', 'type': 'open', 'instructors': [{'id': 'i8c5gjlz9dr3bo', 'name': 'philip pizzo'}], 'school_id': 'ghziegkpSkh'}, 'hznbgxhb4sm74z': {'id': 'hznbgxhb4sm74z', 'category': '', 'num': 'CHEM 31A', 'term': 'Fall 2014', 'subject': 'chemistry', 'is_top': True, 'name': 'Chemical Principals I', 'job': '', 'difficulty': 'non-credit class', 'type': 'open', 'instructors': [{'id': 'ghpvjumoqVY', 'name': 'Jennifer Schwartz'}], 'school_id': 'ghziegkpSkh'}, 'i2obwa7tmze2e2': {'id': 'i2obwa7tmze2e2', 'category': '', 'num': 'BMES', 'term': 'Other', 'subject': 'biomedical engineering', 'name': 'Stanford Biomedical Engineering Society', 'job': '', 'difficulty': 'lower_level', 'type': 'open', 'instructors': [{'id': 'h7ibs12acy833s', 'name': 'Shivani Baisiwala'}, {'id': 'gx3t3qo3z5f1oh', 'name': 'Kay Hung'}], 'school_id': 'ghziegkpSkh'}, 'i6mjcihdjr86nj': {'id': 'i6mjcihdjr86nj', 'category': '', 'num': 'CHEM 33', 'term': 'Spring 2015', 'subject': 'chemistry', 'name': 'Organic Chemistry', 'job': '', 'difficulty': 'lower_level', 'type': 'open', 'instructors': [{'id': 'ghpvjumoqVY', 'name': 'Jennifer Schwartz'}, {'id': 'hf01lvpo7yy35g', 'name': 'dan stack'}], 'school_id': 'ghziegkpSkh'}, 'gv2yp2atu79te': {'id': 'gv2yp2atu79te', 'category': '', 'num': 'SPA Q&A', 'term': 'Other', 'subject': '', 'name': 'Stanford Premedical Association', 'job': '', 'difficulty': 'lower_level', 'type': 'open', 'instructors': [{'id': 'gmiqvtsjhtI', 'name': 'Jodie Ha'}, {'id': 'gjgf9zicuA0', 'name': 'Kathy Zabrocka'}, {'id': 'gv2zbbkijpz38l', 'name': 'tw wiedmann'}, {'id': 'gv2zbbm99j138m', 'name': 'Max Deng'}, {'id': 'giuyonenffj', 'name': 'Daniel Wong'}, {'id': 'gv2zbbpb1dq38p', 'name': 'Shelly Xie'}, {'id': 'gtdpz1bf8c22j3', 'name': 'Kim Pham'}, {'id': 'geegmpylaKe', 'name': 'JANE HAE SOO SHIN'}, {'id': 'gv2zbbs4sr738t', 'name': 'Rachel Vassar'}, {'id': 'gis3h6loEvs', 'name': 'Marcia Foti'}, {'id': 'gekiafkmGOs', 'name': 'Harrison Truong'}, {'id': 'gv2zbbtrmzb38v', 'name': 'Savannah Gonzales'}, {'id': 'glu66t67MVo', 'name': 'Max Deng'}, {'id': 'gy66ncl3o5b3hv', 'name': 'Kathy Wright UAR premed advisor'}, {'id': 'gy6dmm2iqnj2ed', 'name': 'Patricia Lewis UAR premed advisor'}, {'id': 'gijei02wsrF', 'name': 'Sarah Miller'}], 'school_id': 'ghziegkpSkh'}, 'ieua3is0sj82jg': {'id': 'ieua3is0sj82jg', 'category': '', 'num': 'HUMBIO 2B', 'term': 'Fall 2015', 'subject': 'biology', 'name': 'Culture, Evolution, and Society', 'job': '', 'difficulty': 'lower_level', 'type': 'open', 'instructors': [{'id': 'h7hytsnfvrz76j', 'name': 'Annette Salmeen'}, {'id': 'h7jm7sd04fe1nm', 'name': None}, {'id': 'h7jm7sdbpz31no', 'name': 'Walter Scheidel'}], 'school_id': 'ghziegkpSkh'}, 'ieua2rewykb5uv': {'id': 'ieua2rewykb5uv', 'category': '', 'num': 'HUMBIO 2A', 'term': 'Fall 2015', 'subject': 'biology', 'name': 'Genetics, Evolution, and Ecology', 'job': '', 'difficulty': 'lower_level', 'type': 'open', 'instructors': [{'id': 'h7o0smw46pw33d', 'name': 'Katherine A. Preston'}, {'id': 'gtdpz07iibo2hf', 'name': None}, {'id': 'i0gvnftbyim6jy', 'name': None}, {'id': 'h7hytsnfvrz76j', 'name': 'Annette Salmeen'}, {'id': 'gzu32v2f4bh1ea', 'name': 'Katherine Preston'}], 'school_id': 'ghziegkpSkh'}, 'ij0mdnxrps5372': {'id': 'ij0mdnxrps5372', 'category': '', 'num': 'HUMBIO 3B', 'term': 'Winter 2016', 'subject': '', 'name': 'Behavior, Health, and Development', 'job': '', 'difficulty': '', 'type': 'open', 'instructors': [{'id': 'gx84a0ho7512x', 'name': 'David Lyons'}, {'id': 'gx84a1tgp9y130', 'name': 'Anne Fernald'}, {'id': 'gx84a131xyf12y', 'name': None}], 'school_id': 'ghziegkpSkh', 'is_top': True}, 'ij0m8tcd2vn2nj': {'id': 'ij0m8tcd2vn2nj', 'category': '', 'num': 'HUMBIO 3A', 'term': 'Winter 2016', 'subject': '', 'name': 'Humbio 3A Winter 2016 (Cell and Developmental Biology)', 'job': '', 'difficulty': '', 'type': 'open', 'instructors': [{'id': 'h7hytsnfvrz76j', 'name': 'Annette Salmeen'}, {'id': 'i4lxgd0s99l3lb', 'name': 'Roeland Nusse'}, {'id': 'i4lxgd3oh4h3ld', 'name': 'Margaret Fuller'}, {'id': 'ij0mfpgifmd4lh', 'name': None}], 'school_id': 'ghziegkpSkh', 'is_top': True}, 'imch3fev1orn8': {'id': 'imch3fev1orn8', 'category': '', 'num': 'HUMBIO 4A', 'term': 'Spring 2016', 'subject': '', 'name': 'Humbio 4A 2016 (The Human Organism)', 'job': '', 'difficulty': '', 'type': 'open', 'instructors': [{'id': 'h7hytsnfvrz76j', 'name': 'Annette Salmeen'}, {'id': 'gzlvdgkbir060r', 'name': 'Craig Heller'}, {'id': 'h0k0p8audna4gf', 'name': 'Russell Fernald'}], 'school_id': 'ghziegkpSkh', 'is_top': True}, 'imb38okqerp8k': {'id': 'imb38okqerp8k', 'category': 'programming', 'num': 'CS 106A', 'term': 'Spring 2016', 'subject': 'computer science', 'name': 'Programming Methodology', 'job': '', 'difficulty': 'lower_level', 'type': 'open', 'instructors': [{'id': 'hlra9rpne272tv', 'name': 'Marty Stepp'}], 'school_id': 'ghziegkpSkh'}, 'itmax5m488c7z': {'difficulty': 'lower_level', 'school_id': 'ghziegkpSkh', 'subject': 'computer science', 'num': 'CS 103', 'name': 'Mathematical Foundations of Computing', 'term': 'Fall 2016', 'id': 'itmax5m488c7z', 'category': 'other', 'job': '', 'type': 'open', 'instructors': [{'name': 'Keith Schwarz', 'id': 'gedd4eqdXRO'}], 'is_top': True}, 'itfcnspzbyn5ou': {'difficulty': 'lower_level', 'school_id': 'ghziegkpSkh', 'subject': 'computer science', 'num': 'CS 106B', 'name': 'Programming Abstractions', 'term': 'Fall 2016', 'id': 'itfcnspzbyn5ou', 'category': 'programming', 'job': '', 'type': 'open', 'instructors': [{'name': 'Chris Piech', 'id': 'gedg0vltNhZ'}, {'name': 'Chris Gregg', 'id': 'gzcyp0eqAcI'}], 'is_top': True}, 'ixp4r1nbodp5m8': {'difficulty': 'lower_level', 'school_id': 'ghziegkpSkh', 'subject': 'computer science', 'num': 'CS 107', 'name': 'Computer Organization and Systems', 'term': 'Winter 2017', 'id': 'ixp4r1nbodp5m8', 'category': 'computer systems', 'job': '', 'type': 'open', 'instructors': [{'name': 'Cynthia Bailey Lee', 'id': 'h6qom4le42m3ax'}, {'name': 'Julie Zelenski', 'id': 'gebtd9dv0Xj'}], 'is_top': True}, 'j0w0dzrcxul4mo': {'difficulty': 'lower_level', 'school_id': 'ghziegkpSkh', 'subject': 'computer science', 'num': 'CS 142', 'name': 'Web Applications', 'term': 'Spring 2017', 'id': 'j0w0dzrcxul4mo', 'category': 'web development', 'job': '', 'type': 'open', 'instructors': [{'name': 'Mendel Rosenblum', 'id': 'gehfhww6fRO'}], 'is_top': True}, 'j0iih5tp7t22xk': {'difficulty': 'lower_level', 'school_id': 'ghziegkpSkh', 'subject': 'computer science', 'num': 'CS 161', 'name': 'Design and Analysis of Algorithms', 'term': 'Spring 2017', 'id': 'j0iih5tp7t22xk', 'category': 'algorithms/data structures', 'job': '', 'type': 'open', 'instructors': [{'name': 'Mary Wootters', 'id': 'irm4i8fyehf2ht'}], 'is_top': True}, 'j0v4mzrec6m2nc': {'difficulty': '', 'school_id': 'ghziegkpSkh', 'subject': '', 'num': 'MS&E 152/152W', 'name': 'Introduction to Decision Analysis', 'term': 'Spring 2017', 'id': 'j0v4mzrec6m2nc', 'category': '', 'job': '', 'type': 'open', 'instructors': [{'name': 'Ross D. Shachter', 'id': 'i783iq6yvxq3bl'}]}, 'j61kw43f52c4en': {'difficulty': 'upper_level', 'student_count': 974, 'school_id': 'ghziegkpSkh', 'subject': 'computer science', 'num': 'CS 221', 'name': 'Artificial Intelligence: Principles and Techniques', 'term': 'Fall 2017', 'id': 'j61kw43f52c4en', 'category': 'artificial intelligence', 'job': '', 'type': 'open', 'instructors': [{'name': 'Percy Liang', 'id': 'h5x0rhgrflc6x3'}, {'name': 'Stefano Ermon', 'id': 'i389ubcc9pw3d9'}]}, 'j7wbekhv16e542': {'difficulty': 'lower_level', 'student_count': 103, 'school_id': 'ghziegkpSkh', 'subject': 'computer science', 'num': 'CS 145', 'name': 'Introduction to Databases', 'term': 'Fall 2017', 'id': 'j7wbekhv16e542', 'category': 'databases', 'job': '', 'type': 'open', 'instructors': [{'name': 'Peter Bailis', 'id': 'idkhz1imwy52nd'}], 'is_top': True}, 'j66r25o2adf4vp': {'difficulty': 'upper_level', 'student_count': 60, 'school_id': 'ghziegkpSkh', 'subject': 'biomedical engineering', 'num': 'BIOMEDIN 214', 'name': 'Representations and Algorithms for Computational Molecular Biology', 'term': 'Fall 2017', 'id': 'j66r25o2adf4vp', 'category': 'algorithms/data structures', 'job': '', 'type': 'open', 'instructors': [{'name': 'Russ B. Altman', 'id': 'gt0hywp73n6'}, {'name': 'Emily Flynn', 'id': 'i0e4s3ofqgt6zp'}], 'is_top': True}, 'jc6k3rso1vo39t': {'difficulty': 'upper_level', 'student_count': 146, 'school_id': 'ghziegkpSkh', 'subject': 'computer science', 'num': 'CS 255', 'name': 'Introduction to Cryptography', 'term': 'Winter 2018', 'id': 'jc6k3rso1vo39t', 'category': 'computer security', 'job': '', 'type': 'open', 'instructors': [{'name': 'Dan Boneh', 'id': 'ixqf92pqdv06mj'}]}, 'jc6scfi9dp61o3': {'difficulty': 'grad_level', 'student_count': 40, 'school_id': 'ghziegkpSkh', 'subject': 'computer science', 'num': 'CS 371', 'name': 'CS 371: Computational Biology in Four Dimensions', 'term': 'Winter 2018', 'id': 'jc6scfi9dp61o3', 'category': 'data science', 'job': '', 'type': 'open', 'instructors': [{'name': 'Ron Dror', 'id': 'htdbr1736mv3gk'}]}, 'jfecw5ak5dh68z': {'difficulty': 'lower_level', 'student_count': 12, 'school_id': 'ghziegkpSkh', 'subject': 'computer science', 'num': 'CS193p', 'name': 'Developing Applications for iOS', 'term': 'Spring 2018', 'id': 'jfecw5ak5dh68z', 'category': 'mobile development', 'job': '', 'type': 'open', 'instructors': [{'name': 'Paul Hegarty', 'id': 'gek8p95vECO'}]}, 'jc6n65qfcmq33o': {'difficulty': '', 'student_count': 6, 'school_id': 'ghziegkpSkh', 'subject': '', 'num': 'LAW 4004', 'name': 'Computer security, a Legal and Technical Perspective', 'term': 'Spring 2018', 'id': 'jc6n65qfcmq33o', 'category': '', 'job': '', 'type': 'open', 'instructors': [{'name': 'Riana Pfefferkorn', 'id': 'jc6n6imlcvm58a'}, {'name': 'Dan Boneh', 'id': 'ixqf92pqdv06mj'}, {'name': 'Andrew Grotto', 'id': 'jc6n8piqvq6pk'}]}, 'jfdxc1k02o93vq': {'difficulty': 'upper_level', 'student_count': 240, 'school_id': 'ghziegkpSkh', 'subject': 'computer science', 'num': 'CS 110', 'name': 'Principles of Computer Systems', 'term': 'Spring 2018', 'id': 'jfdxc1k02o93vq', 'category': 'operating systems', 'job': '', 'type': 'open', 'instructors': [{'name': 'Jerry Cain', 'id': 'gx5bhdsl5sg534'}], 'is_top': True}, 'jekiaju5aas603': {'difficulty': 'grad_level', 'student_count': 54, 'school_id': 'ghziegkpSkh', 'subject': 'computer science', 'num': 'CS 355', 'name': 'Topics in Cryptography', 'term': 'Spring 2018', 'id': 'jekiaju5aas603', 'category': 'computer security', 'job': '', 'type': 'open', 'instructors': [{'name': 'David Wu', 'id': 'geggtsihm3r'}, {'name': 'Henry Corrigan-Gibbs', 'id': 'hm001xwmh046ws'}, {'name': 'Sam Kim', 'id': 'jekibn3vmum6rg'}]}, 'jm8cm4sz2ii6w': {'difficulty': 'upper_level', 'student_count': 182, 'school_id': 'ghziegkpSkh', 'subject': 'computer science', 'num': 'CS 251', 'name': 'Cryptocurrencies and blockchain technologies', 'term': 'Fall 2018', 'id': 'jm8cm4sz2ii6w', 'category': 'other', 'job': '', 'type': 'open', 'instructors': [{'name': 'Dan Boneh', 'id': 'ixqf92pqdv06mj'}, {'name': 'David Mazières', 'id': 'jmcwz2c5us11fp'}], 'is_top': True}, 'jm15vaabw5e1pg': {'difficulty': 'upper_level', 'student_count': 150, 'school_id': 'ghziegkpSkh', 'subject': 'computer science', 'num': 'CS 224W', 'name': 'Analysis of Networks', 'term': 'Fall 2018', 'id': 'jm15vaabw5e1pg', 'category': 'computer networks', 'job': '', 'type': 'open', 'instructors': [{'name': 'Jure Leskovec', 'id': 'gij2c4p1o4t'}]}, 'jmgkc2scv23gr': {'student_count': 188, 'subject': 'computer science', 'num': 'CS 107', 'type': 'open', 'instructors': [{'name': 'Cynthia Bailey Lee', 'id': 'h6qom4le42m3ax'}], 'difficulty': 'lower_level', 'school_id': 'ghziegkpSkh', 'name': 'Computer Organization and Systems', 'term': 'Fall 2018', 'id': 'jmgkc2scv23gr', 'category': 'computer systems', 'job': '', 'is_ta': True}, 'jpvy7uu773d13i': {'student_count': 0, 'subject': 'computer science', 'num': 'CS 107', 'type': 'open', 'instructors': [{'name': 'Nick Troccoli', 'id': 'h3nq4ox3rej69w'}], 'difficulty': 'lower_level', 'school_id': 'ghziegkpSkh', 'name': 'Computer Organization and Systems', 'term': 'Winter 2019', 'id': 'jpvy7uu773d13i', 'category': 'computer systems', 'job': '', 'is_ta': True}, 'jqimcox1pv35oa': {'difficulty': 'upper_level', 'student_count': 19, 'school_id': 'ghziegkpSkh', 'subject': 'computer science', 'num': 'CS 261', 'name': 'Optimization and Algorithmic Paradigms', 'term': 'Winter 2019', 'id': 'jqimcox1pv35oa', 'category': 'algorithms/data structures', 'job': '', 'type': 'open', 'instructors': [], 'is_top': True}, 'jqlm24v9c5z5aa': {'difficulty': 'upper_level', 'student_count': 228, 'school_id': 'ghziegkpSkh', 'subject': 'computer science', 'num': 'CS 246', 'name': 'Mining Massive Data Sets', 'term': 'Winter 2019', 'id': 'jqlm24v9c5z5aa', 'category': 'data mining', 'job': '', 'type': 'open', 'instructors': [{'name': 'Jure Leskovec', 'id': 'gij2c4p1o4t'}, {'name': 'Michele Catasta', 'id': 'jm15wajf6pi2h8'}], 'is_top': True}, 'jplfhonua8q6u9': {'difficulty': 'grad_level', 'student_count': 86, 'school_id': 'ghziegkpSkh', 'subject': 'computer science', 'num': 'EE 376A', 'name': 'Information theory', 'term': 'Winter 2019', 'id': 'jplfhonua8q6u9', 'category': 'other', 'job': '', 'type': 'open', 'instructors': [{'name': 'Tsachy Weissman', 'id': 'hc9r4r4hgba493'}]}, 'jtuwk7ilolqub': {'student_count': 314, 'subject': 'computer science', 'num': 'CS 229', 'type': 'open', 'is_top': True, 'instructors': [{'name': 'Anand Avati', 'id': 'ieqj1wwnt802nn'}, {'name': 'Chris', 'id': 'htfk7f1i9q8aq'}, {'name': 'Tengyu Ma', 'id': 'jasodbed36y2u'}, {'name': 'Swati Dube', 'id': 'i08jjd3h3gv6wr'}], 'difficulty': '', 'school_id': 'hbhg4toei5j1jq', 'name': 'Machine Learning', 'term': 'Spring 2019', 'id': 'jtuwk7ilolqub', 'category': 'artificial intelligence', 'job': ''}, 'jtxplf62iwh6fv': {'student_count': 0, 'subject': 'computer science', 'num': 'CS 107', 'type': 'open', 'instructors': [{'name': 'Nick Troccoli', 'id': 'h3nq4ox3rej69w'}], 'difficulty': 'lower_level', 'school_id': 'ghziegkpSkh', 'name': 'Computer Organization and Systems', 'term': 'Spring 2019', 'id': 'jtxplf62iwh6fv', 'category': 'computer systems', 'job': '', 'is_ta': True}, 'jtyoye10m9841w': {'difficulty': 'upper_level', 'student_count': 57, 'school_id': 'ghziegkpSkh', 'subject': 'computer science', 'num': 'CS 224U', 'name': 'Natural Language Understanding', 'term': 'Spring 2019', 'id': 'jtyoye10m9841w', 'category': 'natural language processing', 'job': '', 'type': 'open', 'instructors': [{'name': 'Chris Potts', 'id': 'genbrfewuFk'}], 'is_top': True}, 'jtz9x4nj2vv30j': {'difficulty': '', 'student_count': 12, 'school_id': 'ghziegkpSkh', 'subject': 'statistics/probability', 'num': 'STATS 315B', 'name': 'Modern Applied Statistics: Data Mining', 'term': 'Spring 2019', 'id': 'jtz9x4nj2vv30j', 'category': 'data mining', 'job': '', 'type': 'open', 'instructors': [], 'is_top': True}}\n"
     ]
    }
   ],
   "source": [
    "print(user_profile['all_classes'])"
   ]
  },
  {
   "cell_type": "code",
   "execution_count": 4,
   "metadata": {},
   "outputs": [],
   "source": [
    "cs224u = p.network('jtyoye10m9841w')"
   ]
  },
  {
   "cell_type": "code",
   "execution_count": 6,
   "metadata": {},
   "outputs": [
    {
     "data": {
      "text/plain": [
       "{'folders': ['hw1'],\n",
       " 'nr': 100,\n",
       " 'data': {'embed_links': []},\n",
       " 'created': '2019-04-12T23:30:49Z',\n",
       " 'bucket_order': 2,\n",
       " 'no_answer_followup': 0,\n",
       " 'change_log': [{'anon': 'no',\n",
       "   'uid': 'i0fkgtidradgh',\n",
       "   'data': 'juepfyo7g7g47u',\n",
       "   'type': 'create',\n",
       "   'when': '2019-04-12T23:30:49Z'},\n",
       "  {'anon': 'stud',\n",
       "   'data': 'juf0hnlr1lm4qz',\n",
       "   'to': 'juepfyo3olv47t',\n",
       "   'type': 's_answer',\n",
       "   'when': '2019-04-13T04:40:04Z'},\n",
       "  {'anon': 'no',\n",
       "   'uid': 'i0fkgtidradgh',\n",
       "   'to': 'juepfyo3olv47t',\n",
       "   'type': 'followup',\n",
       "   'when': '2019-04-13T07:21:01Z'}],\n",
       " 'bucket_name': 'Today',\n",
       " 'history': [{'anon': 'no',\n",
       "   'uid': 'i0fkgtidradgh',\n",
       "   'subject': 'Jupyter notebook not running in virtual env',\n",
       "   'created': '2019-04-12T23:30:49Z',\n",
       "   'content': 'When running the line &#96;from mittens import GloVe&#96;, I&#39;m getting a ModuleNotFoundError: No module named &#39;mittens&#39;. This was surprising to me since I was the command &#96;jupyter notebook&#96; within my nlu virtualenv. I was able to successfully import mittens when in the python interpreter, so I found it strange I couldn&#39;t access that in my jupyter notebook.\\n\\nBy testing out what version of numpy my jupyter notebook was using, I was able to deduce that my jupyter notebook is not running in the virtual environment I set up for this class. I tried the suggestion at  https://stackoverflow.com/questions/37891550/jupyter-notebook-running-kernel-in-different-env (&#96;python -m ipykernel install --user --name nlu --display-name &#34;CS224U Python&#34;&#96;) but found that my jupyter notebook was continuing to run not in the virtual environment. I&#39;m able to just install mittens on my local machine, but I thought it would be good to know how to run jupyter  notebook from my virtualenv going forward. Any suggestions?\\n\\nThanks!'}],\n",
       " 'type': 'question',\n",
       " 'tags': ['hw1', 'student'],\n",
       " 'tag_good': [{'role': 'student',\n",
       "   'name': 'John Romano',\n",
       "   'endorser': {},\n",
       "   'admin': False,\n",
       "   'photo': '1536266200_35.png',\n",
       "   'id': 'iewwdcrdy867fc',\n",
       "   'photo_url': 'https://d1b10bmlvqabco.cloudfront.net/photos/iewwdcrdy867fc/1536266200_35.png',\n",
       "   'published': True,\n",
       "   'us': False,\n",
       "   'facebook_id': None},\n",
       "  {'role': 'student',\n",
       "   'name': 'Ji Hun Wang',\n",
       "   'endorser': {},\n",
       "   'admin': False,\n",
       "   'photo': None,\n",
       "   'id': 'jmju11b6547cc',\n",
       "   'photo_url': None,\n",
       "   'published': True,\n",
       "   'us': False,\n",
       "   'facebook_id': None}],\n",
       " 'unique_views': 83,\n",
       " 'children': [{'folders': [],\n",
       "   'data': {'embed_links': []},\n",
       "   'children': [],\n",
       "   'created': '2019-04-13T04:40:04Z',\n",
       "   'bucket_order': 2,\n",
       "   'tag_endorse': [{'role': 'student',\n",
       "     'name': 'Sonja Johnson-Yu',\n",
       "     'endorser': {},\n",
       "     'admin': False,\n",
       "     'photo': None,\n",
       "     'id': 'i0fkgtidradgh',\n",
       "     'photo_url': None,\n",
       "     'published': True,\n",
       "     'us': False,\n",
       "     'facebook_id': None},\n",
       "    {'role': 'ta',\n",
       "     'name': 'Ignacio Cases',\n",
       "     'endorser': {},\n",
       "     'admin': True,\n",
       "     'photo': None,\n",
       "     'id': 'i0er9aesyvy1a5',\n",
       "     'photo_url': None,\n",
       "     'published': True,\n",
       "     'us': False,\n",
       "     'facebook_id': None}],\n",
       "   'bucket_name': 'Today',\n",
       "   'id': 'juf0hnlo7kc4qy',\n",
       "   'history': [{'anon': 'stud',\n",
       "     'subject': '',\n",
       "     'created': '2019-04-13T04:40:04Z',\n",
       "     'content': '<p>Did you use the correct kernel to run your notebook?\\xa0Maybe try Kernel -&gt; Change Kernel -&gt; CS224U Python?\\xa0</p>'}],\n",
       "   'type': 's_answer',\n",
       "   'tag_endorse_arr': ['i0fkgtidradgh', 'i0er9aesyvy1a5'],\n",
       "   'config': {},\n",
       "   'is_tag_endorse': False},\n",
       "  {'anon': 'no',\n",
       "   'folders': [],\n",
       "   'data': {'embed_links': None},\n",
       "   'no_upvotes': 0,\n",
       "   'subject': 'Thank you for reminding me about that step! (doh!) :)',\n",
       "   'created': '2019-04-13T07:21:01Z',\n",
       "   'bucket_order': 3,\n",
       "   'bucket_name': 'Yesterday',\n",
       "   'type': 'followup',\n",
       "   'uid': 'i0fkgtidradgh',\n",
       "   'children': [],\n",
       "   'no_answer': 0,\n",
       "   'id': 'juf68n74t8w2on',\n",
       "   'd-bucket': 'Yesterday',\n",
       "   'updated': '2019-04-13T07:21:01Z',\n",
       "   'config': {}}],\n",
       " 'tag_good_arr': ['iewwdcrdy867fc', 'jmju11b6547cc'],\n",
       " 'no_answer': 0,\n",
       " 'id': 'juepfyo3olv47t',\n",
       " 'config': {},\n",
       " 'status': 'active',\n",
       " 'upvote_ids': [],\n",
       " 'request_instructor': 0,\n",
       " 'request_instructor_me': False,\n",
       " 'bookmarked': 2,\n",
       " 'num_favorites': 0,\n",
       " 'my_favorite': False,\n",
       " 'is_bookmarked': False,\n",
       " 'is_tag_good': False,\n",
       " 'q_edits': [],\n",
       " 'i_edits': [],\n",
       " 's_edits': [],\n",
       " 't': 1560686877165,\n",
       " 'default_anonymity': 'no'}"
      ]
     },
     "execution_count": 6,
     "metadata": {},
     "output_type": "execute_result"
    }
   ],
   "source": [
    "cs224u.get_post(100)"
   ]
  },
  {
   "cell_type": "code",
   "execution_count": null,
   "metadata": {},
   "outputs": [],
   "source": []
  }
 ],
 "metadata": {
  "kernelspec": {
   "display_name": "Python 3",
   "language": "python",
   "name": "python3"
  },
  "language_info": {
   "codemirror_mode": {
    "name": "ipython",
    "version": 3
   },
   "file_extension": ".py",
   "mimetype": "text/x-python",
   "name": "python",
   "nbconvert_exporter": "python",
   "pygments_lexer": "ipython3",
   "version": "3.7.1"
  }
 },
 "nbformat": 4,
 "nbformat_minor": 2
}
